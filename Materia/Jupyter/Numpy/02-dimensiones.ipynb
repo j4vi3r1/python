{
  "cells": [
    {
      "cell_type": "code",
      "execution_count": 1,
      "metadata": {
        "id": "eTZ5F9ddjrAi"
      },
      "outputs": [],
      "source": [
        "import numpy as np"
      ]
    },
    {
      "attachments": {},
      "cell_type": "markdown",
      "metadata": {
        "id": "OYaqYwcfjpY6"
      },
      "source": [
        "DIMENSIONES"
      ]
    },
    {
      "attachments": {},
      "cell_type": "markdown",
      "metadata": {
        "id": "TtaqbzELjsM7"
      },
      "source": [
        "Generando un Array de 12 elementos enteros con Random"
      ]
    },
    {
      "cell_type": "code",
      "execution_count": 2,
      "metadata": {
        "colab": {
          "base_uri": "https://localhost:8080/"
        },
        "id": "cbxqdkk9kNre",
        "outputId": "0d625042-810f-4f48-9c6f-6788f8e90666"
      },
      "outputs": [
        {
          "data": {
            "text/plain": [
              "array([8, 3, 7, 2, 7, 1, 8, 6, 1, 2, 2, 9])"
            ]
          },
          "execution_count": 2,
          "metadata": {},
          "output_type": "execute_result"
        }
      ],
      "source": [
        "arreglo = np.random.randint(1,10,12)\n",
        "arreglo"
      ]
    },
    {
      "attachments": {},
      "cell_type": "markdown",
      "metadata": {
        "id": "lCKDPCevlQr1"
      },
      "source": [
        "Obtener la dimensión de un arreglo"
      ]
    },
    {
      "cell_type": "code",
      "execution_count": 3,
      "metadata": {
        "colab": {
          "base_uri": "https://localhost:8080/"
        },
        "id": "LdAliQhpmYcA",
        "outputId": "ee136e61-39a4-4381-ae93-c88dd64a7955"
      },
      "outputs": [
        {
          "data": {
            "text/plain": [
              "(12,)"
            ]
          },
          "execution_count": 3,
          "metadata": {},
          "output_type": "execute_result"
        }
      ],
      "source": [
        "np.shape(arreglo)"
      ]
    },
    {
      "attachments": {},
      "cell_type": "markdown",
      "metadata": {
        "id": "6pjYh994mo40"
      },
      "source": [
        "Transformación del vector de 9 elementos a Matriz 4x3 con  Reshape"
      ]
    },
    {
      "cell_type": "code",
      "execution_count": 4,
      "metadata": {
        "colab": {
          "base_uri": "https://localhost:8080/"
        },
        "id": "K6CcuYSTmxnH",
        "outputId": "c7eaa721-3afc-4fdc-8aa0-e86fe86de92e"
      },
      "outputs": [
        {
          "data": {
            "text/plain": [
              "array([[8, 3, 7],\n",
              "       [2, 7, 1],\n",
              "       [8, 6, 1],\n",
              "       [2, 2, 9]])"
            ]
          },
          "execution_count": 4,
          "metadata": {},
          "output_type": "execute_result"
        }
      ],
      "source": [
        "matriz = arreglo.reshape(4,3)\n",
        "matriz"
      ]
    },
    {
      "attachments": {},
      "cell_type": "markdown",
      "metadata": {
        "id": "Iio0Yc1Robsi"
      },
      "source": [
        "Otra Transformación del vector de 9 elementos a matriz de 3x4 con reshape"
      ]
    },
    {
      "cell_type": "code",
      "execution_count": 5,
      "metadata": {
        "colab": {
          "base_uri": "https://localhost:8080/"
        },
        "id": "IwQPnLtco7QY",
        "outputId": "b58971b5-82a4-4041-ee85-71692885cbc4"
      },
      "outputs": [
        {
          "data": {
            "text/plain": [
              "array([[8, 3, 7, 2],\n",
              "       [7, 1, 8, 6],\n",
              "       [1, 2, 2, 9]])"
            ]
          },
          "execution_count": 5,
          "metadata": {},
          "output_type": "execute_result"
        }
      ],
      "source": [
        "matriz = arreglo.reshape(3,4)\n",
        "matriz"
      ]
    },
    {
      "attachments": {},
      "cell_type": "markdown",
      "metadata": {
        "id": "Ge5xml4opM5e"
      },
      "source": [
        "Creando un Tensor"
      ]
    },
    {
      "cell_type": "code",
      "execution_count": 6,
      "metadata": {
        "colab": {
          "base_uri": "https://localhost:8080/"
        },
        "id": "HGDa_QHqpPof",
        "outputId": "a8f2b1ac-3004-4fb3-8126-e35be4fbd23a"
      },
      "outputs": [
        {
          "data": {
            "text/plain": [
              "[[[[1, 2, 3], [4, 5, 6], [7, 8, 9], [1, 2, 3]]]]"
            ]
          },
          "execution_count": 6,
          "metadata": {},
          "output_type": "execute_result"
        }
      ],
      "source": [
        "t = [[[[1,2,3],[4,5,6],[7,8,9],[1,2,3]]]]\n",
        "t"
      ]
    }
  ],
  "metadata": {
    "colab": {
      "provenance": []
    },
    "kernelspec": {
      "display_name": "Python 3",
      "name": "python3"
    },
    "language_info": {
      "codemirror_mode": {
        "name": "ipython",
        "version": 3
      },
      "file_extension": ".py",
      "mimetype": "text/x-python",
      "name": "python",
      "nbconvert_exporter": "python",
      "pygments_lexer": "ipython3",
      "version": "3.11.4"
    }
  },
  "nbformat": 4,
  "nbformat_minor": 0
}
