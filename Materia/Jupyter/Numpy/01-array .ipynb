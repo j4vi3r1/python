{
  "cells": [
    {
      "attachments": {},
      "cell_type": "markdown",
      "metadata": {
        "id": "OPXuD9TpkExR"
      },
      "source": [
        "IMPORTANDO LIBRERÍA NUMPY"
      ]
    },
    {
      "cell_type": "code",
      "execution_count": 1,
      "metadata": {
        "id": "-1Uf9oX1ij5h"
      },
      "outputs": [],
      "source": [
        "import numpy as np"
      ]
    },
    {
      "attachments": {},
      "cell_type": "markdown",
      "metadata": {
        "id": "P1HwjZspmkmS"
      },
      "source": [
        "Lista"
      ]
    },
    {
      "cell_type": "code",
      "execution_count": 2,
      "metadata": {
        "colab": {
          "base_uri": "https://localhost:8080/"
        },
        "id": "YCvRp-uQiwFs",
        "outputId": "245bd1a1-34ca-48bd-f15a-777813b9676a"
      },
      "outputs": [
        {
          "data": {
            "text/plain": [
              "[1, 2, 3, 4, 5, 6, 7, 8, 9, 10]"
            ]
          },
          "execution_count": 2,
          "metadata": {},
          "output_type": "execute_result"
        }
      ],
      "source": [
        "lista = list(range(1,11))\n",
        "lista"
      ]
    },
    {
      "attachments": {},
      "cell_type": "markdown",
      "metadata": {
        "id": "PJUyleChmc8d"
      },
      "source": [
        "Tansformando la lista a un Array"
      ]
    },
    {
      "cell_type": "code",
      "execution_count": 3,
      "metadata": {
        "colab": {
          "base_uri": "https://localhost:8080/"
        },
        "id": "cJoRBeuBjrfA",
        "outputId": "3abb15f1-0812-4080-cba6-206cb80bca9e"
      },
      "outputs": [
        {
          "data": {
            "text/plain": [
              "array([ 1,  2,  3,  4,  5,  6,  7,  8,  9, 10])"
            ]
          },
          "execution_count": 3,
          "metadata": {},
          "output_type": "execute_result"
        }
      ],
      "source": [
        "arreglo = np.array(lista)\n",
        "arreglo"
      ]
    },
    {
      "attachments": {},
      "cell_type": "markdown",
      "metadata": {
        "id": "uEnDWiTlkxm3"
      },
      "source": [
        "Corroborando el tipo de objeto"
      ]
    },
    {
      "cell_type": "code",
      "execution_count": 4,
      "metadata": {
        "colab": {
          "base_uri": "https://localhost:8080/"
        },
        "id": "kdxQFZ_ik3Js",
        "outputId": "bfc67cbf-e520-4cbd-c027-f044e8356cae"
      },
      "outputs": [
        {
          "data": {
            "text/plain": [
              "numpy.ndarray"
            ]
          },
          "execution_count": 4,
          "metadata": {},
          "output_type": "execute_result"
        }
      ],
      "source": [
        "type(arreglo)\n"
      ]
    },
    {
      "cell_type": "code",
      "execution_count": 5,
      "metadata": {
        "colab": {
          "base_uri": "https://localhost:8080/"
        },
        "id": "nzwjY9VGlPBg",
        "outputId": "0e4a2d99-76fe-476f-b19e-920da1a603b1"
      },
      "outputs": [
        {
          "data": {
            "text/plain": [
              "dtype('int32')"
            ]
          },
          "execution_count": 5,
          "metadata": {},
          "output_type": "execute_result"
        }
      ],
      "source": [
        "arreglo.dtype"
      ]
    },
    {
      "attachments": {},
      "cell_type": "markdown",
      "metadata": {
        "id": "YkF58FXuln2C"
      },
      "source": [
        "Definiendo el array de int64 a *float32*"
      ]
    },
    {
      "cell_type": "code",
      "execution_count": 6,
      "metadata": {
        "colab": {
          "base_uri": "https://localhost:8080/"
        },
        "id": "iQFP_B82lxvR",
        "outputId": "8d7bf0a4-5041-4a77-aaca-73f4baf8a497"
      },
      "outputs": [
        {
          "data": {
            "text/plain": [
              "array([ 1.,  2.,  3.,  4.,  5.,  6.,  7.,  8.,  9., 10.])"
            ]
          },
          "execution_count": 6,
          "metadata": {},
          "output_type": "execute_result"
        }
      ],
      "source": [
        "np.array(arreglo, dtype=np.float64)"
      ]
    },
    {
      "attachments": {},
      "cell_type": "markdown",
      "metadata": {
        "id": "4E7wE8d1mEqQ"
      },
      "source": [
        "Sigue siendo un array de int64"
      ]
    },
    {
      "cell_type": "code",
      "execution_count": 7,
      "metadata": {
        "colab": {
          "base_uri": "https://localhost:8080/"
        },
        "id": "br6KfbefmJKb",
        "outputId": "d5a3cfab-251a-4aa3-8857-cd9adaf78b75"
      },
      "outputs": [
        {
          "data": {
            "text/plain": [
              "array([ 1,  2,  3,  4,  5,  6,  7,  8,  9, 10])"
            ]
          },
          "execution_count": 7,
          "metadata": {},
          "output_type": "execute_result"
        }
      ],
      "source": [
        "arreglo"
      ]
    },
    {
      "attachments": {},
      "cell_type": "markdown",
      "metadata": {
        "id": "WREcLuQ5mpTP"
      },
      "source": [
        "Obteniendo el promedio del array"
      ]
    },
    {
      "cell_type": "code",
      "execution_count": 8,
      "metadata": {
        "colab": {
          "base_uri": "https://localhost:8080/"
        },
        "id": "t-r0dZhVmsCy",
        "outputId": "e8557eb1-6a07-4a90-bffd-754b2c6d7650"
      },
      "outputs": [
        {
          "data": {
            "text/plain": [
              "5.5"
            ]
          },
          "execution_count": 8,
          "metadata": {},
          "output_type": "execute_result"
        }
      ],
      "source": [
        "promedio = np.mean(arreglo)\n",
        "promedio"
      ]
    },
    {
      "attachments": {},
      "cell_type": "markdown",
      "metadata": {
        "id": "NTIvwbRymzNL"
      },
      "source": [
        "Obteniendo la mediana del array"
      ]
    },
    {
      "cell_type": "code",
      "execution_count": 9,
      "metadata": {
        "colab": {
          "base_uri": "https://localhost:8080/"
        },
        "id": "Uu6gR4Rsm1lH",
        "outputId": "d530fdf1-dc3f-447d-c9e1-fac143557093"
      },
      "outputs": [
        {
          "data": {
            "text/plain": [
              "5.5"
            ]
          },
          "execution_count": 9,
          "metadata": {},
          "output_type": "execute_result"
        }
      ],
      "source": [
        "mediana = np.median(arreglo)\n",
        "mediana"
      ]
    },
    {
      "attachments": {},
      "cell_type": "markdown",
      "metadata": {
        "id": "7EK_2no9m8m4"
      },
      "source": [
        "Desviación estandar del arreglo"
      ]
    },
    {
      "cell_type": "code",
      "execution_count": 10,
      "metadata": {
        "colab": {
          "base_uri": "https://localhost:8080/"
        },
        "id": "bTFFzbX8m_wM",
        "outputId": "9c16cc8c-9275-4721-cd51-f660aa7171fb"
      },
      "outputs": [
        {
          "data": {
            "text/plain": [
              "2.8722813232690143"
            ]
          },
          "execution_count": 10,
          "metadata": {},
          "output_type": "execute_result"
        }
      ],
      "source": [
        "desviacion_std = np.std(arreglo)\n",
        "desviacion_std"
      ]
    },
    {
      "attachments": {},
      "cell_type": "markdown",
      "metadata": {
        "id": "K_Avi1wSvhcQ"
      },
      "source": [
        "GENERAR ARREGLO DE 10 ELEMENTOS DE SOLO UNOS UNO SOLO"
      ]
    },
    {
      "cell_type": "code",
      "execution_count": 11,
      "metadata": {
        "colab": {
          "base_uri": "https://localhost:8080/"
        },
        "id": "xJOIOLcuvinr",
        "outputId": "041b9a27-1b96-4f03-a883-ce0f74d75e33"
      },
      "outputs": [
        {
          "data": {
            "text/plain": [
              "array([ 1,  2,  3,  4,  5,  6,  7,  8,  9, 10])"
            ]
          },
          "execution_count": 11,
          "metadata": {},
          "output_type": "execute_result"
        }
      ],
      "source": [
        "arreglonuevo = np.arange(1,11)\n",
        "arreglonuevo"
      ]
    },
    {
      "attachments": {},
      "cell_type": "markdown",
      "metadata": {
        "id": "TUB6YewdwasQ"
      },
      "source": [
        "arreglo de 2 en 2 utilizando arange"
      ]
    },
    {
      "cell_type": "code",
      "execution_count": 12,
      "metadata": {
        "colab": {
          "base_uri": "https://localhost:8080/"
        },
        "id": "vjWyu2D0wZ__",
        "outputId": "8003ca46-9fe7-49f7-ad73-65f55e323051"
      },
      "outputs": [
        {
          "data": {
            "text/plain": [
              "array([1, 3, 5, 7, 9])"
            ]
          },
          "execution_count": 12,
          "metadata": {},
          "output_type": "execute_result"
        }
      ],
      "source": [
        "arreglonuevo2 = np.arange(1,11,2)\n",
        "arreglonuevo2"
      ]
    },
    {
      "attachments": {},
      "cell_type": "markdown",
      "metadata": {
        "id": "7ckLcVsawnJm"
      },
      "source": [
        "ALGUNAS FUNCIONES DE NUMPY"
      ]
    },
    {
      "attachments": {},
      "cell_type": "markdown",
      "metadata": {
        "id": "AGWLT5-rwwOQ"
      },
      "source": [
        "\n"
      ]
    },
    {
      "cell_type": "code",
      "execution_count": 13,
      "metadata": {
        "colab": {
          "base_uri": "https://localhost:8080/"
        },
        "id": "ZPQwzYYncE_U",
        "outputId": "9efb085d-1b30-4e38-b40c-d8c350ef622a"
      },
      "outputs": [
        {
          "data": {
            "text/plain": [
              "array([0., 0., 0., 0., 0.])"
            ]
          },
          "execution_count": 13,
          "metadata": {},
          "output_type": "execute_result"
        }
      ],
      "source": [
        "arreglo_de_unos = np.zeros(5)\n",
        "arreglo_de_unos"
      ]
    },
    {
      "cell_type": "code",
      "execution_count": 14,
      "metadata": {
        "id": "NEUBn_g3xEqT"
      },
      "outputs": [],
      "source": [
        "arreglo_int_unos = arreglo_de_unos.astype"
      ]
    },
    {
      "attachments": {},
      "cell_type": "markdown",
      "metadata": {
        "id": "jjttpc9zc7X_"
      },
      "source": [
        "Obteniendo numeros aleatorios"
      ]
    },
    {
      "cell_type": "code",
      "execution_count": 15,
      "metadata": {
        "colab": {
          "base_uri": "https://localhost:8080/"
        },
        "id": "5xzZRGDkcjDd",
        "outputId": "fab2f349-664a-425b-a34b-6d9369936fa0"
      },
      "outputs": [
        {
          "data": {
            "text/plain": [
              "array([0.19812813, 0.12376236, 0.77319589, 0.1444995 , 0.25555886,\n",
              "       0.59397825, 0.35588649, 0.21555733, 0.46299657, 0.13732026])"
            ]
          },
          "execution_count": 15,
          "metadata": {},
          "output_type": "execute_result"
        }
      ],
      "source": [
        "arreglo_aleatorio = np.random.rand(10)\n",
        "arreglo_aleatorio"
      ]
    },
    {
      "attachments": {},
      "cell_type": "markdown",
      "metadata": {
        "id": "4E9fA_qzdCjO"
      },
      "source": [
        "Generando un arreglo de aleatorios de 10 numeros enteros del 1 al 5"
      ]
    },
    {
      "attachments": {},
      "cell_type": "markdown",
      "metadata": {
        "id": "qAXF3Sk1ekh5"
      },
      "source": [
        "UTILIZANDO LA FUNCION RANDOM"
      ]
    },
    {
      "cell_type": "code",
      "execution_count": 16,
      "metadata": {
        "colab": {
          "base_uri": "https://localhost:8080/"
        },
        "id": "YuMHpFpxdJUS",
        "outputId": "eeb324b8-feb3-4eaf-a1a0-f50b83b31ea4"
      },
      "outputs": [
        {
          "data": {
            "text/plain": [
              "array([4, 5, 2, 1, 2, 5, 5, 1, 3, 5])"
            ]
          },
          "execution_count": 16,
          "metadata": {},
          "output_type": "execute_result"
        }
      ],
      "source": [
        "arreglo_aleatorio2 = np.random.randint(1,6,10)\n",
        "arreglo_aleatorio2"
      ]
    },
    {
      "attachments": {},
      "cell_type": "markdown",
      "metadata": {
        "id": "t4hoPec2dfTQ"
      },
      "source": [
        "Matris aleatoria de 3x3"
      ]
    },
    {
      "cell_type": "code",
      "execution_count": 17,
      "metadata": {
        "colab": {
          "base_uri": "https://localhost:8080/"
        },
        "id": "2zuCvrPBdoHx",
        "outputId": "2ae02fc8-1d10-4b57-e293-432ccd965a65"
      },
      "outputs": [
        {
          "data": {
            "text/plain": [
              "array([[0.40230412, 0.42467366, 0.22576229],\n",
              "       [0.13812441, 0.35837089, 0.74436397],\n",
              "       [0.89115044, 0.1329913 , 0.36587063]])"
            ]
          },
          "execution_count": 17,
          "metadata": {},
          "output_type": "execute_result"
        }
      ],
      "source": [
        "matriz = np.random.rand(3,3)\n",
        "matriz"
      ]
    },
    {
      "attachments": {},
      "cell_type": "markdown",
      "metadata": {
        "id": "QOwy7WepeFlN"
      },
      "source": [
        "Generando una matriz aleatoria de 10 numeros enteros del 1 al 100"
      ]
    },
    {
      "cell_type": "code",
      "execution_count": 18,
      "metadata": {
        "colab": {
          "base_uri": "https://localhost:8080/"
        },
        "id": "FiA2fnC8eKVd",
        "outputId": "200f70cc-c4d5-4e87-9e68-b2d84739eb62"
      },
      "outputs": [
        {
          "data": {
            "text/plain": [
              "array([[53, 68, 87, 74, 83, 71, 24,  7, 64, 79],\n",
              "       [25, 53, 87, 70, 88, 61, 23, 98, 77, 26],\n",
              "       [40, 55, 77, 39, 55, 56, 64,  6, 28, 62],\n",
              "       [53, 35, 16, 43, 53, 64, 33, 29, 91, 47],\n",
              "       [ 2, 56, 51, 65,  4, 26, 86, 83, 20, 95],\n",
              "       [52,  2,  1, 87, 78, 87, 68, 19, 50, 88],\n",
              "       [28, 55, 77, 46,  8, 42, 47, 89, 15, 48],\n",
              "       [ 6, 54, 37, 43, 86, 28, 46, 13, 14, 86],\n",
              "       [98, 75, 80, 41, 52, 12, 48, 72,  6, 98],\n",
              "       [30, 81, 26, 95, 69, 18, 38, 65, 19, 65]])"
            ]
          },
          "execution_count": 18,
          "metadata": {},
          "output_type": "execute_result"
        }
      ],
      "source": [
        "matriz2 = np.random.randint(1,100,(10,10))\n",
        "matriz2"
      ]
    }
  ],
  "metadata": {
    "colab": {
      "provenance": []
    },
    "kernelspec": {
      "display_name": "Python 3",
      "name": "python3"
    },
    "language_info": {
      "codemirror_mode": {
        "name": "ipython",
        "version": 3
      },
      "file_extension": ".py",
      "mimetype": "text/x-python",
      "name": "python",
      "nbconvert_exporter": "python",
      "pygments_lexer": "ipython3",
      "version": "3.11.4"
    }
  },
  "nbformat": 4,
  "nbformat_minor": 0
}
