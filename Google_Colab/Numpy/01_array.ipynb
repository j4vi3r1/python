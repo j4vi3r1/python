{
  "cells": [
    {
      "cell_type": "markdown",
      "source": [
        "IMPORTANDO LIBRERÍA NUMPY"
      ],
      "metadata": {
        "id": "OPXuD9TpkExR"
      }
    },
    {
      "cell_type": "code",
      "source": [
        "import numpy as np"
      ],
      "metadata": {
        "id": "-1Uf9oX1ij5h"
      },
      "execution_count": null,
      "outputs": []
    },
    {
      "cell_type": "markdown",
      "source": [
        "Lista"
      ],
      "metadata": {
        "id": "P1HwjZspmkmS"
      }
    },
    {
      "cell_type": "code",
      "source": [
        "lista = list(range(1,11))\n",
        "lista"
      ],
      "metadata": {
        "colab": {
          "base_uri": "https://localhost:8080/"
        },
        "id": "YCvRp-uQiwFs",
        "outputId": "245bd1a1-34ca-48bd-f15a-777813b9676a"
      },
      "execution_count": null,
      "outputs": [
        {
          "output_type": "execute_result",
          "data": {
            "text/plain": [
              "[1, 2, 3, 4, 5, 6, 7, 8, 9, 10]"
            ]
          },
          "metadata": {},
          "execution_count": 3
        }
      ]
    },
    {
      "cell_type": "markdown",
      "source": [
        "Tansformando la lista a un Array"
      ],
      "metadata": {
        "id": "PJUyleChmc8d"
      }
    },
    {
      "cell_type": "code",
      "source": [
        "arreglo = np.array(lista)\n",
        "arreglo"
      ],
      "metadata": {
        "colab": {
          "base_uri": "https://localhost:8080/"
        },
        "id": "cJoRBeuBjrfA",
        "outputId": "3abb15f1-0812-4080-cba6-206cb80bca9e"
      },
      "execution_count": null,
      "outputs": [
        {
          "output_type": "execute_result",
          "data": {
            "text/plain": [
              "array([ 1,  2,  3,  4,  5,  6,  7,  8,  9, 10])"
            ]
          },
          "metadata": {},
          "execution_count": 4
        }
      ]
    },
    {
      "cell_type": "markdown",
      "source": [
        "Corroborando el tipo de objeto"
      ],
      "metadata": {
        "id": "uEnDWiTlkxm3"
      }
    },
    {
      "cell_type": "code",
      "source": [
        "type(arreglo)\n"
      ],
      "metadata": {
        "colab": {
          "base_uri": "https://localhost:8080/"
        },
        "id": "kdxQFZ_ik3Js",
        "outputId": "bfc67cbf-e520-4cbd-c027-f044e8356cae"
      },
      "execution_count": null,
      "outputs": [
        {
          "output_type": "execute_result",
          "data": {
            "text/plain": [
              "numpy.ndarray"
            ]
          },
          "metadata": {},
          "execution_count": 5
        }
      ]
    },
    {
      "cell_type": "code",
      "source": [
        "arreglo.dtype"
      ],
      "metadata": {
        "colab": {
          "base_uri": "https://localhost:8080/"
        },
        "id": "nzwjY9VGlPBg",
        "outputId": "0e4a2d99-76fe-476f-b19e-920da1a603b1"
      },
      "execution_count": null,
      "outputs": [
        {
          "output_type": "execute_result",
          "data": {
            "text/plain": [
              "dtype('int64')"
            ]
          },
          "metadata": {},
          "execution_count": 6
        }
      ]
    },
    {
      "cell_type": "markdown",
      "source": [
        "Definiendo el array de int64 a *float32*"
      ],
      "metadata": {
        "id": "YkF58FXuln2C"
      }
    },
    {
      "cell_type": "code",
      "source": [
        "np.array(arreglo, dtype=np.float64)"
      ],
      "metadata": {
        "colab": {
          "base_uri": "https://localhost:8080/"
        },
        "id": "iQFP_B82lxvR",
        "outputId": "8d7bf0a4-5041-4a77-aaca-73f4baf8a497"
      },
      "execution_count": null,
      "outputs": [
        {
          "output_type": "execute_result",
          "data": {
            "text/plain": [
              "array([ 1.,  2.,  3.,  4.,  5.,  6.,  7.,  8.,  9., 10.])"
            ]
          },
          "metadata": {},
          "execution_count": 7
        }
      ]
    },
    {
      "cell_type": "markdown",
      "source": [
        "Sigue siendo un array de int64"
      ],
      "metadata": {
        "id": "4E7wE8d1mEqQ"
      }
    },
    {
      "cell_type": "code",
      "source": [
        "arreglo"
      ],
      "metadata": {
        "colab": {
          "base_uri": "https://localhost:8080/"
        },
        "id": "br6KfbefmJKb",
        "outputId": "d5a3cfab-251a-4aa3-8857-cd9adaf78b75"
      },
      "execution_count": null,
      "outputs": [
        {
          "output_type": "execute_result",
          "data": {
            "text/plain": [
              "array([ 1,  2,  3,  4,  5,  6,  7,  8,  9, 10])"
            ]
          },
          "metadata": {},
          "execution_count": 8
        }
      ]
    },
    {
      "cell_type": "markdown",
      "source": [
        "Obteniendo el promedio del array"
      ],
      "metadata": {
        "id": "WREcLuQ5mpTP"
      }
    },
    {
      "cell_type": "code",
      "source": [
        "promedio = np.mean(arreglo)\n",
        "promedio"
      ],
      "metadata": {
        "colab": {
          "base_uri": "https://localhost:8080/"
        },
        "id": "t-r0dZhVmsCy",
        "outputId": "e8557eb1-6a07-4a90-bffd-754b2c6d7650"
      },
      "execution_count": null,
      "outputs": [
        {
          "output_type": "execute_result",
          "data": {
            "text/plain": [
              "5.5"
            ]
          },
          "metadata": {},
          "execution_count": 9
        }
      ]
    },
    {
      "cell_type": "markdown",
      "source": [
        "Obteniendo la mediana del array"
      ],
      "metadata": {
        "id": "NTIvwbRymzNL"
      }
    },
    {
      "cell_type": "code",
      "source": [
        "mediana = np.median(arreglo)\n",
        "mediana"
      ],
      "metadata": {
        "colab": {
          "base_uri": "https://localhost:8080/"
        },
        "id": "Uu6gR4Rsm1lH",
        "outputId": "d530fdf1-dc3f-447d-c9e1-fac143557093"
      },
      "execution_count": null,
      "outputs": [
        {
          "output_type": "execute_result",
          "data": {
            "text/plain": [
              "5.5"
            ]
          },
          "metadata": {},
          "execution_count": 10
        }
      ]
    },
    {
      "cell_type": "markdown",
      "source": [
        "Desviación estandar del arreglo"
      ],
      "metadata": {
        "id": "7EK_2no9m8m4"
      }
    },
    {
      "cell_type": "code",
      "source": [
        "desviacion_std = np.std(arreglo)\n",
        "desviacion_std"
      ],
      "metadata": {
        "colab": {
          "base_uri": "https://localhost:8080/"
        },
        "id": "bTFFzbX8m_wM",
        "outputId": "9c16cc8c-9275-4721-cd51-f660aa7171fb"
      },
      "execution_count": null,
      "outputs": [
        {
          "output_type": "execute_result",
          "data": {
            "text/plain": [
              "2.8722813232690143"
            ]
          },
          "metadata": {},
          "execution_count": 11
        }
      ]
    },
    {
      "cell_type": "markdown",
      "source": [
        "GENERAR ARREGLO DE 10 ELEMENTOS DE SOLO UNOS UNO SOLO"
      ],
      "metadata": {
        "id": "K_Avi1wSvhcQ"
      }
    },
    {
      "cell_type": "code",
      "source": [
        "arreglonuevo = np.arange(1,11)\n",
        "arreglonuevo"
      ],
      "metadata": {
        "id": "xJOIOLcuvinr",
        "colab": {
          "base_uri": "https://localhost:8080/"
        },
        "outputId": "041b9a27-1b96-4f03-a883-ce0f74d75e33"
      },
      "execution_count": null,
      "outputs": [
        {
          "output_type": "execute_result",
          "data": {
            "text/plain": [
              "array([ 1,  2,  3,  4,  5,  6,  7,  8,  9, 10])"
            ]
          },
          "metadata": {},
          "execution_count": 12
        }
      ]
    },
    {
      "cell_type": "markdown",
      "source": [
        "arreglo de 2 en 2 utilizando arange"
      ],
      "metadata": {
        "id": "TUB6YewdwasQ"
      }
    },
    {
      "cell_type": "code",
      "source": [
        "arreglonuevo2 = np.arange(1,11,2)\n",
        "arreglonuevo2"
      ],
      "metadata": {
        "colab": {
          "base_uri": "https://localhost:8080/"
        },
        "id": "vjWyu2D0wZ__",
        "outputId": "8003ca46-9fe7-49f7-ad73-65f55e323051"
      },
      "execution_count": null,
      "outputs": [
        {
          "output_type": "execute_result",
          "data": {
            "text/plain": [
              "array([1, 3, 5, 7, 9])"
            ]
          },
          "metadata": {},
          "execution_count": 13
        }
      ]
    },
    {
      "cell_type": "markdown",
      "source": [
        "ALGUNAS FUNCIONES DE NUMPY"
      ],
      "metadata": {
        "id": "7ckLcVsawnJm"
      }
    },
    {
      "cell_type": "markdown",
      "source": [
        "\n"
      ],
      "metadata": {
        "id": "AGWLT5-rwwOQ"
      }
    },
    {
      "cell_type": "code",
      "source": [
        "arreglo_de_unos = np.zeros(5)\n",
        "arreglo_de_unos"
      ],
      "metadata": {
        "id": "ZPQwzYYncE_U",
        "colab": {
          "base_uri": "https://localhost:8080/"
        },
        "outputId": "9efb085d-1b30-4e38-b40c-d8c350ef622a"
      },
      "execution_count": null,
      "outputs": [
        {
          "output_type": "execute_result",
          "data": {
            "text/plain": [
              "array([0., 0., 0., 0., 0.])"
            ]
          },
          "metadata": {},
          "execution_count": 14
        }
      ]
    },
    {
      "cell_type": "code",
      "source": [
        "arreglo_int_unos = arreglo_de_unos.astype"
      ],
      "metadata": {
        "id": "NEUBn_g3xEqT"
      },
      "execution_count": null,
      "outputs": []
    },
    {
      "cell_type": "markdown",
      "source": [
        "Obteniendo numeros aleatorios"
      ],
      "metadata": {
        "id": "jjttpc9zc7X_"
      }
    },
    {
      "cell_type": "code",
      "source": [
        "arreglo_aleatorio = np.random.rand(10)\n",
        "arreglo_aleatorio"
      ],
      "metadata": {
        "colab": {
          "base_uri": "https://localhost:8080/"
        },
        "id": "5xzZRGDkcjDd",
        "outputId": "fab2f349-664a-425b-a34b-6d9369936fa0"
      },
      "execution_count": null,
      "outputs": [
        {
          "output_type": "execute_result",
          "data": {
            "text/plain": [
              "array([0.81906865, 0.09675313, 0.25387025, 0.54423402, 0.71820032,\n",
              "       0.60631922, 0.66329021, 0.46150385, 0.52668911, 0.70330765])"
            ]
          },
          "metadata": {},
          "execution_count": 17
        }
      ]
    },
    {
      "cell_type": "markdown",
      "source": [
        "Generando un arreglo de aleatorios de 10 numeros enteros del 1 al 5"
      ],
      "metadata": {
        "id": "4E9fA_qzdCjO"
      }
    },
    {
      "cell_type": "markdown",
      "source": [
        "UTILIZANDO LA FUNCION RANDOM"
      ],
      "metadata": {
        "id": "qAXF3Sk1ekh5"
      }
    },
    {
      "cell_type": "code",
      "source": [
        "arreglo_aleatorio2 = np.random.randint(1,6,10)\n",
        "arreglo_aleatorio2"
      ],
      "metadata": {
        "colab": {
          "base_uri": "https://localhost:8080/"
        },
        "id": "YuMHpFpxdJUS",
        "outputId": "eeb324b8-feb3-4eaf-a1a0-f50b83b31ea4"
      },
      "execution_count": null,
      "outputs": [
        {
          "output_type": "execute_result",
          "data": {
            "text/plain": [
              "array([4, 5, 5, 5, 2, 5, 1, 3, 2, 1])"
            ]
          },
          "metadata": {},
          "execution_count": 22
        }
      ]
    },
    {
      "cell_type": "markdown",
      "source": [
        "Matris aleatoria de 3x3"
      ],
      "metadata": {
        "id": "t4hoPec2dfTQ"
      }
    },
    {
      "cell_type": "code",
      "source": [
        "matriz = np.random.rand(3,3)\n",
        "matriz"
      ],
      "metadata": {
        "colab": {
          "base_uri": "https://localhost:8080/"
        },
        "id": "2zuCvrPBdoHx",
        "outputId": "2ae02fc8-1d10-4b57-e293-432ccd965a65"
      },
      "execution_count": null,
      "outputs": [
        {
          "output_type": "execute_result",
          "data": {
            "text/plain": [
              "array([[0.76478148, 0.0579292 , 0.17535373],\n",
              "       [0.23014133, 0.98478409, 0.90695674],\n",
              "       [0.42178087, 0.07290217, 0.51234552]])"
            ]
          },
          "metadata": {},
          "execution_count": 23
        }
      ]
    },
    {
      "cell_type": "markdown",
      "source": [
        "Generando una matriz aleatoria de 10 numeros enteros del 1 al 100"
      ],
      "metadata": {
        "id": "QOwy7WepeFlN"
      }
    },
    {
      "cell_type": "code",
      "source": [
        "matriz2 = np.random.randint(1,100,(10,10))\n",
        "matriz2"
      ],
      "metadata": {
        "colab": {
          "base_uri": "https://localhost:8080/"
        },
        "id": "FiA2fnC8eKVd",
        "outputId": "200f70cc-c4d5-4e87-9e68-b2d84739eb62"
      },
      "execution_count": null,
      "outputs": [
        {
          "output_type": "execute_result",
          "data": {
            "text/plain": [
              "array([[73, 77, 76,  4, 36, 88, 82, 46, 32, 72],\n",
              "       [56,  4, 52, 39, 79, 54, 88, 34, 93, 71],\n",
              "       [33, 72, 10, 61, 25, 14, 38, 16, 76, 46],\n",
              "       [19, 98, 96, 53, 90, 48, 18, 79, 65, 92],\n",
              "       [13, 53, 75,  3, 21, 78, 30, 78, 69, 26],\n",
              "       [83,  5, 21,  5, 99, 75, 41, 94, 85,  2],\n",
              "       [71,  2, 44, 39, 17, 42, 31, 99, 20, 69],\n",
              "       [19, 47, 66, 34, 70, 72, 94, 60, 11,  3],\n",
              "       [63, 36, 91, 84, 98, 38, 11, 76, 59, 14],\n",
              "       [27, 62, 86, 45, 12, 95, 38, 81, 51, 37]])"
            ]
          },
          "metadata": {},
          "execution_count": 25
        }
      ]
    }
  ],
  "metadata": {
    "colab": {
      "provenance": []
    },
    "kernelspec": {
      "display_name": "Python 3",
      "name": "python3"
    }
  },
  "nbformat": 4,
  "nbformat_minor": 0
}
