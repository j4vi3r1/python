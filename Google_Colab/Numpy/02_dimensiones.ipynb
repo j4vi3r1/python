{
  "nbformat": 4,
  "nbformat_minor": 0,
  "metadata": {
    "colab": {
      "provenance": []
    },
    "kernelspec": {
      "name": "python3",
      "display_name": "Python 3"
    },
    "language_info": {
      "name": "python"
    }
  },
  "cells": [
    {
      "cell_type": "code",
      "source": [
        "import numpy as np"
      ],
      "metadata": {
        "id": "eTZ5F9ddjrAi"
      },
      "execution_count": 2,
      "outputs": []
    },
    {
      "cell_type": "markdown",
      "source": [
        "DIMENSIONES"
      ],
      "metadata": {
        "id": "OYaqYwcfjpY6"
      }
    },
    {
      "cell_type": "markdown",
      "source": [
        "Generando un Array de 12 elementos enteros con Random"
      ],
      "metadata": {
        "id": "TtaqbzELjsM7"
      }
    },
    {
      "cell_type": "code",
      "source": [
        "arreglo = np.random.randint(1,10,12)\n",
        "arreglo"
      ],
      "metadata": {
        "colab": {
          "base_uri": "https://localhost:8080/"
        },
        "id": "cbxqdkk9kNre",
        "outputId": "0d625042-810f-4f48-9c6f-6788f8e90666"
      },
      "execution_count": 3,
      "outputs": [
        {
          "output_type": "execute_result",
          "data": {
            "text/plain": [
              "array([5, 4, 1, 7, 5, 4, 6, 5, 2, 8, 7, 8])"
            ]
          },
          "metadata": {},
          "execution_count": 3
        }
      ]
    },
    {
      "cell_type": "markdown",
      "source": [
        "Obtener la dimensión de un arreglo"
      ],
      "metadata": {
        "id": "lCKDPCevlQr1"
      }
    },
    {
      "cell_type": "code",
      "source": [
        "np.shape(arreglo)"
      ],
      "metadata": {
        "colab": {
          "base_uri": "https://localhost:8080/"
        },
        "id": "LdAliQhpmYcA",
        "outputId": "ee136e61-39a4-4381-ae93-c88dd64a7955"
      },
      "execution_count": 4,
      "outputs": [
        {
          "output_type": "execute_result",
          "data": {
            "text/plain": [
              "(12,)"
            ]
          },
          "metadata": {},
          "execution_count": 4
        }
      ]
    },
    {
      "cell_type": "markdown",
      "source": [
        "Transformación del vector de 9 elementos a Matriz 4x3 con  Reshape"
      ],
      "metadata": {
        "id": "6pjYh994mo40"
      }
    },
    {
      "cell_type": "code",
      "source": [
        "matriz = arreglo.reshape(4,3)\n",
        "matriz"
      ],
      "metadata": {
        "colab": {
          "base_uri": "https://localhost:8080/"
        },
        "id": "K6CcuYSTmxnH",
        "outputId": "c7eaa721-3afc-4fdc-8aa0-e86fe86de92e"
      },
      "execution_count": 5,
      "outputs": [
        {
          "output_type": "execute_result",
          "data": {
            "text/plain": [
              "array([[5, 4, 1],\n",
              "       [7, 5, 4],\n",
              "       [6, 5, 2],\n",
              "       [8, 7, 8]])"
            ]
          },
          "metadata": {},
          "execution_count": 5
        }
      ]
    },
    {
      "cell_type": "markdown",
      "source": [
        "Otra Transformación del vector de 9 elementos a matriz de 3x4 con reshape"
      ],
      "metadata": {
        "id": "Iio0Yc1Robsi"
      }
    },
    {
      "cell_type": "code",
      "source": [
        "matriz = arreglo.reshape(3,4)\n",
        "matriz"
      ],
      "metadata": {
        "colab": {
          "base_uri": "https://localhost:8080/"
        },
        "id": "IwQPnLtco7QY",
        "outputId": "b58971b5-82a4-4041-ee85-71692885cbc4"
      },
      "execution_count": 6,
      "outputs": [
        {
          "output_type": "execute_result",
          "data": {
            "text/plain": [
              "array([[5, 4, 1, 7],\n",
              "       [5, 4, 6, 5],\n",
              "       [2, 8, 7, 8]])"
            ]
          },
          "metadata": {},
          "execution_count": 6
        }
      ]
    },
    {
      "cell_type": "markdown",
      "source": [
        "Creando un Tensor"
      ],
      "metadata": {
        "id": "Ge5xml4opM5e"
      }
    },
    {
      "cell_type": "code",
      "source": [
        "t = [[[[1,2,3],[4,5,6],[7,8,9],[1,2,3]]]]\n",
        "t"
      ],
      "metadata": {
        "id": "HGDa_QHqpPof",
        "colab": {
          "base_uri": "https://localhost:8080/"
        },
        "outputId": "a8f2b1ac-3004-4fb3-8126-e35be4fbd23a"
      },
      "execution_count": 1,
      "outputs": [
        {
          "output_type": "execute_result",
          "data": {
            "text/plain": [
              "[[[[1, 2, 3], [4, 5, 6], [7, 8, 9], [1, 2, 3]]]]"
            ]
          },
          "metadata": {},
          "execution_count": 1
        }
      ]
    }
  ]
}